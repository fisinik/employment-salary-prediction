{
  "cells": [
    {
      "cell_type": "code",
      "execution_count": null,
      "metadata": {
        "id": "amMUNKtrY1cp"
      },
      "outputs": [],
      "source": [
        "import pandas as pd\n",
        "from imblearn.over_sampling import SMOTE\n",
        "from sklearn.model_selection import train_test_split\n",
        "from sklearn.preprocessing import LabelEncoder\n",
        "import matplotlib.pyplot as plt\n",
        "import seaborn as sns"
      ]
    },
    {
      "cell_type": "code",
      "execution_count": null,
      "metadata": {
        "id": "nNrkXd8vZJux"
      },
      "outputs": [],
      "source": [
        "employment_2019 = pd.read_csv('dataset/Punesimi-2019.csv')\n",
        "employment_2020 = pd.read_csv('dataset/Punesimi-2020.csv')\n",
        "employment_2021 = pd.read_csv('dataset/Punesimi-2021.csv')\n",
        "employment_2022 = pd.read_csv('dataset/Punesimi-2022.csv')\n",
        "employment_2023 = pd.read_csv('dataset/Punesimi-2023.csv')"
      ]
    },
    {
      "cell_type": "code",
      "execution_count": null,
      "metadata": {
        "id": "xe7IHOU0ZQEx"
      },
      "outputs": [],
      "source": [
        "# Combine the datasets\n",
        "employment_combined = pd.concat([employment_2019, employment_2020, employment_2021, employment_2022, employment_2023], ignore_index=True)\n",
        "employment_combined.drop('Unnamed: 3', axis=1, inplace=True)"
      ]
    },
    {
      "cell_type": "code",
      "execution_count": null,
      "metadata": {
        "colab": {
          "base_uri": "https://localhost:8080/",
          "height": 1000
        },
        "id": "IuzQBevXZhOG",
        "outputId": "441fd6e9-f8b6-44a5-de11-b9ffa31dc271"
      },
      "outputs": [
        {
          "name": "stdout",
          "output_type": "stream",
          "text": [
            "   Viti Godina Year  Muaji \\nMesec\\nMonth  \\\n",
            "0              2019                     1   \n",
            "1              2019                     1   \n",
            "2              2019                     1   \n",
            "3              2019                     1   \n",
            "4              2019                     1   \n",
            "\n",
            "  PERSHKRIMI I SEKTORIT\\nOPIS SEKTORA\\nSECTOR DESCRIPTION  \\\n",
            "0                                       Ndertimtaria        \n",
            "1                                       Ndertimtaria        \n",
            "2                                  Mungon aktiviteti        \n",
            "3                                Industria nxjerrese        \n",
            "4                               Industria perpunuese        \n",
            "\n",
            "  Statusi i regjistrimit \\nStatus registracije Registration status  \\\n",
            "0                                            SH.P.K.                 \n",
            "1                                         Individual                 \n",
            "2                                         Individual                 \n",
            "3                                            SH.P.K.                 \n",
            "4                                         Individual                 \n",
            "\n",
            "  Komuna Opstina Municipality  \\\n",
            "0                   PRISHTINË   \n",
            "1                   SKENDERAJ   \n",
            "2                        VITI   \n",
            "3                    PODUJEVË   \n",
            "4                      SHTIME   \n",
            "\n",
            "   Nr Tatimp \\nPoreski obveznik \\nNumber of Taxpayers  \\\n",
            "0                                                359    \n",
            "1                                                 15    \n",
            "2                                                  1    \n",
            "3                                                  2    \n",
            "4                                                 27    \n",
            "\n",
            "   Nr Puns\\nBroj zaposlenih \\nNumber of  employees Primar Primarna Primary  \\\n",
            "0                                             3649                   3,455   \n",
            "1                                              118                     111   \n",
            "2                                                1                       1   \n",
            "3                                                8                       8   \n",
            "4                                               84                      84   \n",
            "\n",
            "  Sekondar Sekundarna Secondary  Meshkuj\\nMuskarci \\nMen (M).  ...  F 55-64  \\\n",
            "0                           194                          2803  ...       32   \n",
            "1                             7                           103  ...        3   \n",
            "2                             0                             0  ...        0   \n",
            "3                             0                             8  ...        0   \n",
            "4                             0                            67  ...        0   \n",
            "\n",
            "   M 65+  F 65+  Mesat. Pages\\nProsecna plata\\nAverage Wage  \\\n",
            "0     40      4                                      411.43   \n",
            "1      0      0                                      269.59   \n",
            "2      0      0                                      170.00   \n",
            "3      0      0                                      177.50   \n",
            "4      0      0                                      229.40   \n",
            "\n",
            "   Mesat. Meshk \\nProsecni M.\\nAverage M.  \\\n",
            "0                                  424.33   \n",
            "1                                  274.26   \n",
            "2                                     NaN   \n",
            "3                                  177.50   \n",
            "4                                  234.57   \n",
            "\n",
            "   Mesat. Fem.\\nProsecni F. Average F.  M(15-65+)  F(15-65+)   M+F  \\\n",
            "0                               357.40       2803        646  3449   \n",
            "1                               242.53        103         14   117   \n",
            "2                               170.00          0          1     1   \n",
            "3                                  NaN          8          0     8   \n",
            "4                               210.61         67         16    83   \n",
            "\n",
            "   MonthYearISO  \n",
            "0        1-2019  \n",
            "1        1-2019  \n",
            "2        1-2019  \n",
            "3        1-2019  \n",
            "4        1-2019  \n",
            "\n",
            "[5 rows x 31 columns]\n"
          ]
        },
        {
          "data": {
            "application/vnd.google.colaboratory.intrinsic+json": {
              "summary": "{\n  \"name\": \"employment_translated\",\n  \"rows\": 88014,\n  \"fields\": [\n    {\n      \"column\": \"Year\",\n      \"properties\": {\n        \"dtype\": \"number\",\n        \"std\": 1,\n        \"min\": 2019,\n        \"max\": 2023,\n        \"num_unique_values\": 5,\n        \"samples\": [\n          2020,\n          2023,\n          2021\n        ],\n        \"semantic_type\": \"\",\n        \"description\": \"\"\n      }\n    },\n    {\n      \"column\": \"Month\",\n      \"properties\": {\n        \"dtype\": \"number\",\n        \"std\": 3,\n        \"min\": 1,\n        \"max\": 12,\n        \"num_unique_values\": 12,\n        \"samples\": [\n          11,\n          10,\n          1\n        ],\n        \"semantic_type\": \"\",\n        \"description\": \"\"\n      }\n    },\n    {\n      \"column\": \"Month-Year\",\n      \"properties\": {\n        \"dtype\": \"object\",\n        \"num_unique_values\": 60,\n        \"samples\": [\n          \"1-2019\",\n          \"6-2019\",\n          \"1-2022\"\n        ],\n        \"semantic_type\": \"\",\n        \"description\": \"\"\n      }\n    },\n    {\n      \"column\": \"Sector Description\",\n      \"properties\": {\n        \"dtype\": \"category\",\n        \"num_unique_values\": 23,\n        \"samples\": [\n          \"Tregtia me shumice dhe pakice; Riparimi i mjeteve motorike dhe motoeikletave\",\n          \"Aktivitetet financiare dhe te sigurimit\",\n          \"Ndertimtaria\"\n        ],\n        \"semantic_type\": \"\",\n        \"description\": \"\"\n      }\n    },\n    {\n      \"column\": \"Registration Status\",\n      \"properties\": {\n        \"dtype\": \"category\",\n        \"num_unique_values\": 30,\n        \"samples\": [\n          \"Shoqat\\u00eb\",\n          \"Zyr\\u00eb nd\\u00ebrlidh\\u00ebse\",\n          \" Odat\"\n        ],\n        \"semantic_type\": \"\",\n        \"description\": \"\"\n      }\n    },\n    {\n      \"column\": \"Municipality\",\n      \"properties\": {\n        \"dtype\": \"category\",\n        \"num_unique_values\": 38,\n        \"samples\": [\n          \"ZVE\\u00c7AN\",\n          \"KLLOKOT\",\n          \"SHTIME\"\n        ],\n        \"semantic_type\": \"\",\n        \"description\": \"\"\n      }\n    },\n    {\n      \"column\": \"Number of Employees\",\n      \"properties\": {\n        \"dtype\": \"number\",\n        \"std\": 2392,\n        \"min\": 0,\n        \"max\": 174354,\n        \"num_unique_values\": 2946,\n        \"samples\": [\n          3055,\n          3683,\n          1931\n        ],\n        \"semantic_type\": \"\",\n        \"description\": \"\"\n      }\n    },\n    {\n      \"column\": \"Men\",\n      \"properties\": {\n        \"dtype\": \"number\",\n        \"std\": 1386,\n        \"min\": 0,\n        \"max\": 117894,\n        \"num_unique_values\": 2416,\n        \"samples\": [\n          521,\n          2147,\n          1617\n        ],\n        \"semantic_type\": \"\",\n        \"description\": \"\"\n      }\n    },\n    {\n      \"column\": \"Women\",\n      \"properties\": {\n        \"dtype\": \"number\",\n        \"std\": 1022,\n        \"min\": 0,\n        \"max\": 56460,\n        \"num_unique_values\": 1685,\n        \"samples\": [\n          1260,\n          839,\n          139\n        ],\n        \"semantic_type\": \"\",\n        \"description\": \"\"\n      }\n    },\n    {\n      \"column\": \"Average Wage Men\",\n      \"properties\": {\n        \"dtype\": \"number\",\n        \"std\": 319.3900619118514,\n        \"min\": 0.01,\n        \"max\": 19436.25,\n        \"num_unique_values\": 33127,\n        \"samples\": [\n          209.43,\n          1173.9,\n          554.33\n        ],\n        \"semantic_type\": \"\",\n        \"description\": \"\"\n      }\n    },\n    {\n      \"column\": \"Average Wage Women\",\n      \"properties\": {\n        \"dtype\": \"number\",\n        \"std\": 260.77043701605476,\n        \"min\": 0.01,\n        \"max\": 13391.77,\n        \"num_unique_values\": 26224,\n        \"samples\": [\n          296.32,\n          370.7,\n          587.25\n        ],\n        \"semantic_type\": \"\",\n        \"description\": \"\"\n      }\n    }\n  ]\n}",
              "type": "dataframe",
              "variable_name": "employment_translated"
            },
            "text/html": [
              "\n",
              "  <div id=\"df-65427ff7-a03b-410f-93e6-71a644b6e8b8\" class=\"colab-df-container\">\n",
              "    <div>\n",
              "<style scoped>\n",
              "    .dataframe tbody tr th:only-of-type {\n",
              "        vertical-align: middle;\n",
              "    }\n",
              "\n",
              "    .dataframe tbody tr th {\n",
              "        vertical-align: top;\n",
              "    }\n",
              "\n",
              "    .dataframe thead th {\n",
              "        text-align: right;\n",
              "    }\n",
              "</style>\n",
              "<table border=\"1\" class=\"dataframe\">\n",
              "  <thead>\n",
              "    <tr style=\"text-align: right;\">\n",
              "      <th></th>\n",
              "      <th>Year</th>\n",
              "      <th>Month</th>\n",
              "      <th>Month-Year</th>\n",
              "      <th>Sector Description</th>\n",
              "      <th>Registration Status</th>\n",
              "      <th>Municipality</th>\n",
              "      <th>Number of Employees</th>\n",
              "      <th>Men</th>\n",
              "      <th>Women</th>\n",
              "      <th>Average Wage Men</th>\n",
              "      <th>Average Wage Women</th>\n",
              "    </tr>\n",
              "  </thead>\n",
              "  <tbody>\n",
              "    <tr>\n",
              "      <th>0</th>\n",
              "      <td>2019</td>\n",
              "      <td>1</td>\n",
              "      <td>1-2019</td>\n",
              "      <td>Ndertimtaria</td>\n",
              "      <td>SH.P.K.</td>\n",
              "      <td>PRISHTINË</td>\n",
              "      <td>3449</td>\n",
              "      <td>2803</td>\n",
              "      <td>646</td>\n",
              "      <td>424.33</td>\n",
              "      <td>357.40</td>\n",
              "    </tr>\n",
              "    <tr>\n",
              "      <th>1</th>\n",
              "      <td>2019</td>\n",
              "      <td>1</td>\n",
              "      <td>1-2019</td>\n",
              "      <td>Ndertimtaria</td>\n",
              "      <td>Individual</td>\n",
              "      <td>SKENDERAJ</td>\n",
              "      <td>117</td>\n",
              "      <td>103</td>\n",
              "      <td>14</td>\n",
              "      <td>274.26</td>\n",
              "      <td>242.53</td>\n",
              "    </tr>\n",
              "    <tr>\n",
              "      <th>2</th>\n",
              "      <td>2019</td>\n",
              "      <td>1</td>\n",
              "      <td>1-2019</td>\n",
              "      <td>Mungon aktiviteti</td>\n",
              "      <td>Individual</td>\n",
              "      <td>VITI</td>\n",
              "      <td>1</td>\n",
              "      <td>0</td>\n",
              "      <td>1</td>\n",
              "      <td>NaN</td>\n",
              "      <td>170.00</td>\n",
              "    </tr>\n",
              "    <tr>\n",
              "      <th>3</th>\n",
              "      <td>2019</td>\n",
              "      <td>1</td>\n",
              "      <td>1-2019</td>\n",
              "      <td>Industria nxjerrese</td>\n",
              "      <td>SH.P.K.</td>\n",
              "      <td>PODUJEVË</td>\n",
              "      <td>8</td>\n",
              "      <td>8</td>\n",
              "      <td>0</td>\n",
              "      <td>177.50</td>\n",
              "      <td>NaN</td>\n",
              "    </tr>\n",
              "    <tr>\n",
              "      <th>4</th>\n",
              "      <td>2019</td>\n",
              "      <td>1</td>\n",
              "      <td>1-2019</td>\n",
              "      <td>Industria perpunuese</td>\n",
              "      <td>Individual</td>\n",
              "      <td>SHTIME</td>\n",
              "      <td>83</td>\n",
              "      <td>67</td>\n",
              "      <td>16</td>\n",
              "      <td>234.57</td>\n",
              "      <td>210.61</td>\n",
              "    </tr>\n",
              "  </tbody>\n",
              "</table>\n",
              "</div>\n",
              "    <div class=\"colab-df-buttons\">\n",
              "\n",
              "  <div class=\"colab-df-container\">\n",
              "    <button class=\"colab-df-convert\" onclick=\"convertToInteractive('df-65427ff7-a03b-410f-93e6-71a644b6e8b8')\"\n",
              "            title=\"Convert this dataframe to an interactive table.\"\n",
              "            style=\"display:none;\">\n",
              "\n",
              "  <svg xmlns=\"http://www.w3.org/2000/svg\" height=\"24px\" viewBox=\"0 -960 960 960\">\n",
              "    <path d=\"M120-120v-720h720v720H120Zm60-500h600v-160H180v160Zm220 220h160v-160H400v160Zm0 220h160v-160H400v160ZM180-400h160v-160H180v160Zm440 0h160v-160H620v160ZM180-180h160v-160H180v160Zm440 0h160v-160H620v160Z\"/>\n",
              "  </svg>\n",
              "    </button>\n",
              "\n",
              "  <style>\n",
              "    .colab-df-container {\n",
              "      display:flex;\n",
              "      gap: 12px;\n",
              "    }\n",
              "\n",
              "    .colab-df-convert {\n",
              "      background-color: #E8F0FE;\n",
              "      border: none;\n",
              "      border-radius: 50%;\n",
              "      cursor: pointer;\n",
              "      display: none;\n",
              "      fill: #1967D2;\n",
              "      height: 32px;\n",
              "      padding: 0 0 0 0;\n",
              "      width: 32px;\n",
              "    }\n",
              "\n",
              "    .colab-df-convert:hover {\n",
              "      background-color: #E2EBFA;\n",
              "      box-shadow: 0px 1px 2px rgba(60, 64, 67, 0.3), 0px 1px 3px 1px rgba(60, 64, 67, 0.15);\n",
              "      fill: #174EA6;\n",
              "    }\n",
              "\n",
              "    .colab-df-buttons div {\n",
              "      margin-bottom: 4px;\n",
              "    }\n",
              "\n",
              "    [theme=dark] .colab-df-convert {\n",
              "      background-color: #3B4455;\n",
              "      fill: #D2E3FC;\n",
              "    }\n",
              "\n",
              "    [theme=dark] .colab-df-convert:hover {\n",
              "      background-color: #434B5C;\n",
              "      box-shadow: 0px 1px 3px 1px rgba(0, 0, 0, 0.15);\n",
              "      filter: drop-shadow(0px 1px 2px rgba(0, 0, 0, 0.3));\n",
              "      fill: #FFFFFF;\n",
              "    }\n",
              "  </style>\n",
              "\n",
              "    <script>\n",
              "      const buttonEl =\n",
              "        document.querySelector('#df-65427ff7-a03b-410f-93e6-71a644b6e8b8 button.colab-df-convert');\n",
              "      buttonEl.style.display =\n",
              "        google.colab.kernel.accessAllowed ? 'block' : 'none';\n",
              "\n",
              "      async function convertToInteractive(key) {\n",
              "        const element = document.querySelector('#df-65427ff7-a03b-410f-93e6-71a644b6e8b8');\n",
              "        const dataTable =\n",
              "          await google.colab.kernel.invokeFunction('convertToInteractive',\n",
              "                                                    [key], {});\n",
              "        if (!dataTable) return;\n",
              "\n",
              "        const docLinkHtml = 'Like what you see? Visit the ' +\n",
              "          '<a target=\"_blank\" href=https://colab.research.google.com/notebooks/data_table.ipynb>data table notebook</a>'\n",
              "          + ' to learn more about interactive tables.';\n",
              "        element.innerHTML = '';\n",
              "        dataTable['output_type'] = 'display_data';\n",
              "        await google.colab.output.renderOutput(dataTable, element);\n",
              "        const docLink = document.createElement('div');\n",
              "        docLink.innerHTML = docLinkHtml;\n",
              "        element.appendChild(docLink);\n",
              "      }\n",
              "    </script>\n",
              "  </div>\n",
              "\n",
              "\n",
              "<div id=\"df-156888ae-29ba-42ce-8109-33f75a23fbcd\">\n",
              "  <button class=\"colab-df-quickchart\" onclick=\"quickchart('df-156888ae-29ba-42ce-8109-33f75a23fbcd')\"\n",
              "            title=\"Suggest charts\"\n",
              "            style=\"display:none;\">\n",
              "\n",
              "<svg xmlns=\"http://www.w3.org/2000/svg\" height=\"24px\"viewBox=\"0 0 24 24\"\n",
              "     width=\"24px\">\n",
              "    <g>\n",
              "        <path d=\"M19 3H5c-1.1 0-2 .9-2 2v14c0 1.1.9 2 2 2h14c1.1 0 2-.9 2-2V5c0-1.1-.9-2-2-2zM9 17H7v-7h2v7zm4 0h-2V7h2v10zm4 0h-2v-4h2v4z\"/>\n",
              "    </g>\n",
              "</svg>\n",
              "  </button>\n",
              "\n",
              "<style>\n",
              "  .colab-df-quickchart {\n",
              "      --bg-color: #E8F0FE;\n",
              "      --fill-color: #1967D2;\n",
              "      --hover-bg-color: #E2EBFA;\n",
              "      --hover-fill-color: #174EA6;\n",
              "      --disabled-fill-color: #AAA;\n",
              "      --disabled-bg-color: #DDD;\n",
              "  }\n",
              "\n",
              "  [theme=dark] .colab-df-quickchart {\n",
              "      --bg-color: #3B4455;\n",
              "      --fill-color: #D2E3FC;\n",
              "      --hover-bg-color: #434B5C;\n",
              "      --hover-fill-color: #FFFFFF;\n",
              "      --disabled-bg-color: #3B4455;\n",
              "      --disabled-fill-color: #666;\n",
              "  }\n",
              "\n",
              "  .colab-df-quickchart {\n",
              "    background-color: var(--bg-color);\n",
              "    border: none;\n",
              "    border-radius: 50%;\n",
              "    cursor: pointer;\n",
              "    display: none;\n",
              "    fill: var(--fill-color);\n",
              "    height: 32px;\n",
              "    padding: 0;\n",
              "    width: 32px;\n",
              "  }\n",
              "\n",
              "  .colab-df-quickchart:hover {\n",
              "    background-color: var(--hover-bg-color);\n",
              "    box-shadow: 0 1px 2px rgba(60, 64, 67, 0.3), 0 1px 3px 1px rgba(60, 64, 67, 0.15);\n",
              "    fill: var(--button-hover-fill-color);\n",
              "  }\n",
              "\n",
              "  .colab-df-quickchart-complete:disabled,\n",
              "  .colab-df-quickchart-complete:disabled:hover {\n",
              "    background-color: var(--disabled-bg-color);\n",
              "    fill: var(--disabled-fill-color);\n",
              "    box-shadow: none;\n",
              "  }\n",
              "\n",
              "  .colab-df-spinner {\n",
              "    border: 2px solid var(--fill-color);\n",
              "    border-color: transparent;\n",
              "    border-bottom-color: var(--fill-color);\n",
              "    animation:\n",
              "      spin 1s steps(1) infinite;\n",
              "  }\n",
              "\n",
              "  @keyframes spin {\n",
              "    0% {\n",
              "      border-color: transparent;\n",
              "      border-bottom-color: var(--fill-color);\n",
              "      border-left-color: var(--fill-color);\n",
              "    }\n",
              "    20% {\n",
              "      border-color: transparent;\n",
              "      border-left-color: var(--fill-color);\n",
              "      border-top-color: var(--fill-color);\n",
              "    }\n",
              "    30% {\n",
              "      border-color: transparent;\n",
              "      border-left-color: var(--fill-color);\n",
              "      border-top-color: var(--fill-color);\n",
              "      border-right-color: var(--fill-color);\n",
              "    }\n",
              "    40% {\n",
              "      border-color: transparent;\n",
              "      border-right-color: var(--fill-color);\n",
              "      border-top-color: var(--fill-color);\n",
              "    }\n",
              "    60% {\n",
              "      border-color: transparent;\n",
              "      border-right-color: var(--fill-color);\n",
              "    }\n",
              "    80% {\n",
              "      border-color: transparent;\n",
              "      border-right-color: var(--fill-color);\n",
              "      border-bottom-color: var(--fill-color);\n",
              "    }\n",
              "    90% {\n",
              "      border-color: transparent;\n",
              "      border-bottom-color: var(--fill-color);\n",
              "    }\n",
              "  }\n",
              "</style>\n",
              "\n",
              "  <script>\n",
              "    async function quickchart(key) {\n",
              "      const quickchartButtonEl =\n",
              "        document.querySelector('#' + key + ' button');\n",
              "      quickchartButtonEl.disabled = true;  // To prevent multiple clicks.\n",
              "      quickchartButtonEl.classList.add('colab-df-spinner');\n",
              "      try {\n",
              "        const charts = await google.colab.kernel.invokeFunction(\n",
              "            'suggestCharts', [key], {});\n",
              "      } catch (error) {\n",
              "        console.error('Error during call to suggestCharts:', error);\n",
              "      }\n",
              "      quickchartButtonEl.classList.remove('colab-df-spinner');\n",
              "      quickchartButtonEl.classList.add('colab-df-quickchart-complete');\n",
              "    }\n",
              "    (() => {\n",
              "      let quickchartButtonEl =\n",
              "        document.querySelector('#df-156888ae-29ba-42ce-8109-33f75a23fbcd button');\n",
              "      quickchartButtonEl.style.display =\n",
              "        google.colab.kernel.accessAllowed ? 'block' : 'none';\n",
              "    })();\n",
              "  </script>\n",
              "</div>\n",
              "    </div>\n",
              "  </div>\n"
            ],
            "text/plain": [
              "   Year  Month Month-Year    Sector Description Registration Status  \\\n",
              "0  2019      1     1-2019          Ndertimtaria             SH.P.K.   \n",
              "1  2019      1     1-2019          Ndertimtaria          Individual   \n",
              "2  2019      1     1-2019     Mungon aktiviteti          Individual   \n",
              "3  2019      1     1-2019   Industria nxjerrese             SH.P.K.   \n",
              "4  2019      1     1-2019  Industria perpunuese          Individual   \n",
              "\n",
              "  Municipality  Number of Employees   Men  Women  Average Wage Men  \\\n",
              "0    PRISHTINË                 3449  2803    646            424.33   \n",
              "1    SKENDERAJ                  117   103     14            274.26   \n",
              "2         VITI                    1     0      1               NaN   \n",
              "3     PODUJEVË                    8     8      0            177.50   \n",
              "4       SHTIME                   83    67     16            234.57   \n",
              "\n",
              "   Average Wage Women  \n",
              "0              357.40  \n",
              "1              242.53  \n",
              "2              170.00  \n",
              "3                 NaN  \n",
              "4              210.61  "
            ]
          },
          "execution_count": 5,
          "metadata": {},
          "output_type": "execute_result"
        }
      ],
      "source": [
        "# Translate column names to English\n",
        "employment_combined['M(15-65+)'] = employment_combined[['M 15-24', 'M 25-34', 'M 35-44', 'M 45-54', 'M 55-64', 'M 65+']].sum(axis=1)\n",
        "employment_combined['F(15-65+)'] = employment_combined[['F 15-24', 'F 25-34', 'F 35-44', 'F 45-54', 'F 55-64', 'F 65+']].sum(axis=1)\n",
        "employment_combined['M+F']=employment_combined['M(15-65+)'] + employment_combined['F(15-65+)']\n",
        "employment_combined['MonthYearISO'] =  employment_combined['Muaji \\nMesec\\nMonth'].astype(str) + '-' +employment_combined['Viti Godina Year'].astype(str).str.pad(width=2, fillchar='0')\n",
        "\n",
        "print(employment_combined.head())\n",
        "\n",
        "column_translations = {\n",
        "    'Viti Godina Year': 'Year',\n",
        "    'Muaji \\nMesec\\nMonth': 'Month',\n",
        "    'MonthYearISO': 'Month-Year',\n",
        "    'PERSHKRIMI I SEKTORIT\\nOPIS SEKTORA\\nSECTOR DESCRIPTION': 'Sector Description',\n",
        "    'Statusi i regjistrimit \\nStatus registracije Registration status': 'Registration Status',\n",
        "    'Komuna Opstina Municipality': 'Municipality',\n",
        "    'M+F': 'Number of Employees',\n",
        "    'M(15-65+)': 'Men',\n",
        "    'F(15-65+)': 'Women',\n",
        "    'Mesat. Meshk \\nProsecni M.\\nAverage M.': 'Average Wage Men',\n",
        "    'Mesat. Fem.\\nProsecni F. Average F.': 'Average Wage Women'\n",
        "}\n",
        "employment_translated = employment_combined.rename(columns=column_translations).loc[:, list(column_translations.values())]\n",
        "\n",
        "employment_translated.head(5)"
      ]
    },
    {
      "cell_type": "code",
      "execution_count": null,
      "metadata": {
        "colab": {
          "base_uri": "https://localhost:8080/"
        },
        "id": "uX3yFilXZhU0",
        "outputId": "ad7c58b1-aada-4908-fd79-74990b198610"
      },
      "outputs": [
        {
          "name": "stdout",
          "output_type": "stream",
          "text": [
            "<class 'pandas.core.frame.DataFrame'>\n",
            "RangeIndex: 88014 entries, 0 to 88013\n",
            "Data columns (total 31 columns):\n",
            " #   Column                                                           Non-Null Count  Dtype  \n",
            "---  ------                                                           --------------  -----  \n",
            " 0   Viti Godina Year                                                 88014 non-null  int64  \n",
            " 1   Muaji \n",
            "Mesec\n",
            "Month                                               88014 non-null  int64  \n",
            " 2   PERSHKRIMI I SEKTORIT\n",
            "OPIS SEKTORA\n",
            "SECTOR DESCRIPTION            88014 non-null  object \n",
            " 3   Statusi i regjistrimit \n",
            "Status registracije Registration status  88014 non-null  object \n",
            " 4   Komuna Opstina Municipality                                      88014 non-null  object \n",
            " 5   Nr Tatimp \n",
            "Poreski obveznik \n",
            "Number of Taxpayers                 88014 non-null  int64  \n",
            " 6   Nr Puns\n",
            "Broj zaposlenih \n",
            "Number of  employees                    88014 non-null  int64  \n",
            " 7   Primar Primarna Primary                                          88014 non-null  object \n",
            " 8   Sekondar Sekundarna Secondary                                    88014 non-null  object \n",
            " 9   Meshkuj\n",
            "Muskarci \n",
            "Men (M).                                       88014 non-null  int64  \n",
            " 10  Femra\n",
            "Zenske\n",
            "Women (F)                                           88014 non-null  int64  \n",
            " 11  Pa Verif \n",
            "Neprovereno \n",
            "Unverified                                88014 non-null  int64  \n",
            " 12  M 15-24                                                          88014 non-null  int64  \n",
            " 13  F 15-24                                                          88014 non-null  int64  \n",
            " 14  M 25-34                                                          88014 non-null  int64  \n",
            " 15  F 25-34                                                          88014 non-null  int64  \n",
            " 16  M 35-44                                                          88014 non-null  int64  \n",
            " 17  F 35-44                                                          88014 non-null  int64  \n",
            " 18  M 45-54                                                          88014 non-null  int64  \n",
            " 19  F 45-54                                                          88014 non-null  int64  \n",
            " 20  M 55-64                                                          88014 non-null  int64  \n",
            " 21  F 55-64                                                          88014 non-null  int64  \n",
            " 22  M 65+                                                            88014 non-null  int64  \n",
            " 23  F 65+                                                            88014 non-null  int64  \n",
            " 24  Mesat. Pages\n",
            "Prosecna plata\n",
            "Average Wage                         87389 non-null  float64\n",
            " 25  Mesat. Meshk \n",
            "Prosecni M.\n",
            "Average M.                             83914 non-null  float64\n",
            " 26  Mesat. Fem.\n",
            "Prosecni F. Average F.                               73917 non-null  float64\n",
            " 27  M(15-65+)                                                        88014 non-null  int64  \n",
            " 28  F(15-65+)                                                        88014 non-null  int64  \n",
            " 29  M+F                                                              88014 non-null  int64  \n",
            " 30  MonthYearISO                                                     88014 non-null  object \n",
            "dtypes: float64(3), int64(22), object(6)\n",
            "memory usage: 20.8+ MB\n"
          ]
        },
        {
          "data": {
            "text/plain": [
              "Viti Godina Year                                                        0\n",
              "Muaji \\nMesec\\nMonth                                                    0\n",
              "PERSHKRIMI I SEKTORIT\\nOPIS SEKTORA\\nSECTOR DESCRIPTION                 0\n",
              "Statusi i regjistrimit \\nStatus registracije Registration status        0\n",
              "Komuna Opstina Municipality                                             0\n",
              "Nr Tatimp \\nPoreski obveznik \\nNumber of Taxpayers                      0\n",
              "Nr Puns\\nBroj zaposlenih \\nNumber of  employees                         0\n",
              "Primar Primarna Primary                                                 0\n",
              "Sekondar Sekundarna Secondary                                           0\n",
              "Meshkuj\\nMuskarci \\nMen (M).                                            0\n",
              "Femra\\nZenske\\nWomen (F)                                                0\n",
              "Pa Verif \\nNeprovereno \\nUnverified                                     0\n",
              "M 15-24                                                                 0\n",
              "F 15-24                                                                 0\n",
              "M 25-34                                                                 0\n",
              "F 25-34                                                                 0\n",
              "M 35-44                                                                 0\n",
              "F 35-44                                                                 0\n",
              "M 45-54                                                                 0\n",
              "F 45-54                                                                 0\n",
              "M 55-64                                                                 0\n",
              "F 55-64                                                                 0\n",
              "M 65+                                                                   0\n",
              "F 65+                                                                   0\n",
              "Mesat. Pages\\nProsecna plata\\nAverage Wage                            625\n",
              "Mesat. Meshk \\nProsecni M.\\nAverage M.                               4100\n",
              "Mesat. Fem.\\nProsecni F. Average F.                                 14097\n",
              "M(15-65+)                                                               0\n",
              "F(15-65+)                                                               0\n",
              "M+F                                                                     0\n",
              "MonthYearISO                                                            0\n",
              "dtype: int64"
            ]
          },
          "execution_count": 6,
          "metadata": {},
          "output_type": "execute_result"
        }
      ],
      "source": [
        "employment_combined.info()\n",
        "employment_combined.dtypes\n",
        "employment_combined.describe(include='all')\n",
        "employment_combined.count()\n",
        "\n",
        "# export the combined dataset\n",
        "employment_combined.to_csv('employment.csv', index=False)\n",
        "\n",
        "employment_combined.head(5)\n",
        "employment_combined.isnull().sum()"
      ]
    },
    {
      "cell_type": "code",
      "execution_count": null,
      "metadata": {
        "id": "ivfWdZEkZ0oh"
      },
      "outputs": [],
      "source": [
        "# Correcting specific characters in the dataframe\n",
        "employment_translated['Sector Description'] = employment_translated['Sector Description'].str.replace('Ã‹', 'Ë').replace('Ã‡', 'Ç')\n",
        "employment_translated['Registration Status'] = employment_translated['Registration Status'].str.replace('Ã‹', 'Ë').replace('Ã‡', 'Ç')\n",
        "\n",
        "employment_translated = employment_translated.dropna(subset=['Average Wage Men', 'Average Wage Women'], how='any')\n",
        "\n",
        "employment_translated.loc[(employment_translated['Men'] == 0) & (employment_translated['Average Wage Men'].isna()), 'Average Wage Men'] = 0\n",
        "\n",
        "rows_to_drop_man = employment_translated[(employment_translated['Men'] != 0) & (employment_translated['Average Wage Men'].isna())].index\n",
        "\n",
        "employment_translated = employment_translated.drop(rows_to_drop_man)\n",
        "\n",
        "employment_translated.loc[(employment_translated['Women'] == 0) & (employment_translated['Average Wage Women'].isna()), 'Average Wage Women'] = 0\n",
        "\n",
        "# Identify rows to drop\n",
        "rows_to_drop_woman = employment_translated[(employment_translated['Women'] != 0) & (employment_translated['Average Wage Women'].isna())].index\n",
        "\n",
        "employment_translated = employment_translated.drop(rows_to_drop_woman)\n"
      ]
    },
    {
      "cell_type": "code",
      "execution_count": null,
      "metadata": {
        "id": "Qt1i2n2iZ6uC"
      },
      "outputs": [],
      "source": [
        "label_encoder = LabelEncoder()\n",
        "\n",
        "employment_translated.loc[:, 'Sector Id'] = label_encoder.fit_transform(employment_translated['Sector Description'])\n",
        "employment_translated.loc[:, 'Registration Id'] = label_encoder.fit_transform(employment_translated['Registration Status'])"
      ]
    },
    {
      "cell_type": "code",
      "execution_count": null,
      "metadata": {
        "colab": {
          "base_uri": "https://localhost:8080/"
        },
        "id": "eANjQt2IaCI6",
        "outputId": "8bb9d149-418e-44dd-cf9e-a8977dd9e94a"
      },
      "outputs": [
        {
          "name": "stdout",
          "output_type": "stream",
          "text": [
            "anomaly\n",
            " 1    62814\n",
            "-1     7797\n",
            "Name: count, dtype: int64\n"
          ]
        }
      ],
      "source": [
        "\n",
        "# Selecting numeric columns, exclude non-relevant columns like IDs or indices\n",
        "numeric_cols = employment_translated.select_dtypes(include=['int64', 'float64']).columns.tolist()\n",
        "from sklearn.ensemble import IsolationForest\n",
        "\n",
        "# Initialize the IsolationForest model\n",
        "iso_forest = IsolationForest(n_estimators=100, contamination='auto', random_state=42)\n",
        "\n",
        "# Fit the model to the dataset\n",
        "iso_forest.fit(employment_translated[numeric_cols])\n",
        "\n",
        "# Predict anomalies, where -1 indicates an anomaly and 1 indicates a normal observation\n",
        "employment_translated['anomaly'] = iso_forest.predict(employment_translated[numeric_cols])\n",
        "\n",
        "anomaly_counts = employment_translated['anomaly'].value_counts()\n",
        "print(anomaly_counts)\n",
        "\n",
        "anomalies = employment_translated[employment_translated['anomaly'] == -1]\n",
        "# print(anomalies)\n",
        "employment_no_anomalies = employment_translated[employment_translated['anomaly'] != -1].copy()\n"
      ]
    },
    {
      "cell_type": "code",
      "execution_count": null,
      "metadata": {
        "id": "G9JuykspaP6i"
      },
      "outputs": [],
      "source": [
        "z_scores = (employment_no_anomalies[['Average Wage Women', 'Average Wage Men']] - employment_no_anomalies[['Average Wage Women', 'Average Wage Men']].mean()) / employment_no_anomalies[['Average Wage Women', 'Average Wage Men']].std()\n",
        "\n",
        "# Define a threshold for outlier detection (e.g., z-score > 3 or z-score < -3)\n",
        "threshold = 3\n",
        "\n",
        "outliers = z_scores.abs() > threshold\n",
        "\n",
        "employment_no_outliers = employment_no_anomalies[~outliers.any(axis=1)]\n"
      ]
    },
    {
      "cell_type": "code",
      "execution_count": null,
      "metadata": {
        "colab": {
          "base_uri": "https://localhost:8080/"
        },
        "id": "WFiAct1IafQ-",
        "outputId": "f1f2b9f3-9676-4805-c9a8-524f6609ffb0"
      },
      "outputs": [
        {
          "name": "stderr",
          "output_type": "stream",
          "text": [
            "<ipython-input-12-92aaa702af55>:1: SettingWithCopyWarning: \n",
            "A value is trying to be set on a copy of a slice from a DataFrame.\n",
            "Try using .loc[row_indexer,col_indexer] = value instead\n",
            "\n",
            "See the caveats in the documentation: https://pandas.pydata.org/pandas-docs/stable/user_guide/indexing.html#returning-a-view-versus-a-copy\n",
            "  employment_no_outliers['average wage'] = (employment_no_outliers['Average Wage Men'] + employment_no_outliers['Average Wage Women']) / 2\n"
          ]
        }
      ],
      "source": [
        "employment_no_outliers['average wage'] = (employment_no_outliers['Average Wage Men'] + employment_no_outliers['Average Wage Women']) / 2\n"
      ]
    },
    {
      "cell_type": "code",
      "execution_count": null,
      "metadata": {
        "id": "imo4vorKakoN"
      },
      "outputs": [],
      "source": [
        "employment_no_outliers.to_csv('final.csv', index=False)"
      ]
    },
    {
      "cell_type": "code",
      "execution_count": 16,
      "metadata": {
        "colab": {
          "base_uri": "https://localhost:8080/",
          "height": 1000
        },
        "id": "9zK2QeircxzV",
        "outputId": "0af88585-5067-4470-c20a-7a815ea31e2f"
      },
      "outputs": [
        {
          "name": "stdout",
          "output_type": "stream",
          "text": [
            "   Year  Month Month-Year               Sector Description  \\\n",
            "0  2019      1     1-2019                     Ndertimtaria   \n",
            "1  2019      1     1-2019             Industria perpunuese   \n",
            "2  2019      1     1-2019         Informimi dhe komunikimi   \n",
            "3  2019      1     1-2019        Transporti dhe magazinimi   \n",
            "4  2019      1     1-2019  Akomodimi dhe sherbimi ushqimor   \n",
            "\n",
            "  Registration Status Municipality  Number of Employees  Men  Women  \\\n",
            "0          Individual    SKENDERAJ                  117  103     14   \n",
            "1          Individual       SHTIME                   83   67     16   \n",
            "2             SH.P.K.    SKENDERAJ                   14   10      4   \n",
            "3  Ortakëria e përgj.    PRISHTINË                   60   55      5   \n",
            "4          Individual         VITI                   73   60     13   \n",
            "\n",
            "   Average Wage Men  Average Wage Women  Sector Id  Registration Id  \\\n",
            "0            274.26              242.53         17                8   \n",
            "1            234.57              210.61         14                8   \n",
            "2            345.83              207.65         15               23   \n",
            "3            218.36              284.40         20               19   \n",
            "4            164.42              204.23          1                8   \n",
            "\n",
            "   average wage  \n",
            "0       258.395  \n",
            "1       222.590  \n",
            "2       276.740  \n",
            "3       251.380  \n",
            "4       184.325  \n",
            "<class 'pandas.core.frame.DataFrame'>\n",
            "RangeIndex: 60938 entries, 0 to 60937\n",
            "Data columns (total 14 columns):\n",
            " #   Column               Non-Null Count  Dtype  \n",
            "---  ------               --------------  -----  \n",
            " 0   Year                 60938 non-null  int64  \n",
            " 1   Month                60938 non-null  int64  \n",
            " 2   Month-Year           60938 non-null  object \n",
            " 3   Sector Description   60938 non-null  object \n",
            " 4   Registration Status  60938 non-null  object \n",
            " 5   Municipality         60938 non-null  object \n",
            " 6   Number of Employees  60938 non-null  int64  \n",
            " 7   Men                  60938 non-null  int64  \n",
            " 8   Women                60938 non-null  int64  \n",
            " 9   Average Wage Men     60938 non-null  float64\n",
            " 10  Average Wage Women   60938 non-null  float64\n",
            " 11  Sector Id            60938 non-null  int64  \n",
            " 12  Registration Id      60938 non-null  int64  \n",
            " 13  average wage         60938 non-null  float64\n",
            "dtypes: float64(3), int64(7), object(4)\n",
            "memory usage: 6.5+ MB\n",
            "None\n"
          ]
        },
        {
          "data": {
            "image/png": "[encoded data removed]",
            "text/plain": [
              "<Figure size 2000x1600 with 2 Axes>"
            ]
          },
          "metadata": {},
          "output_type": "display_data"
        },
        {
          "name": "stdout",
          "output_type": "stream",
          "text": [
            "                         Year     Month  Month-Year  Sector Description  \\\n",
            "Year                 1.000000 -0.016415    0.083336           -0.010365   \n",
            "Month               -0.016415  1.000000    0.075316           -0.001878   \n",
            "Month-Year           0.083336  0.075316    1.000000            0.001462   \n",
            "Sector Description  -0.010365 -0.001878    0.001462            1.000000   \n",
            "Registration Status  0.005559  0.000268   -0.001149            0.060726   \n",
            "Municipality        -0.004748 -0.000316    0.001986            0.017253   \n",
            "Number of Employees  0.041001  0.004959    0.040532            0.182752   \n",
            "Men                  0.025324  0.005140    0.037576            0.206942   \n",
            "Women                0.069802  0.003368    0.038359            0.081277   \n",
            "Average Wage Men     0.157181  0.024914    0.019040            0.070187   \n",
            "Average Wage Women   0.157617  0.025690    0.017230            0.047525   \n",
            "Sector Id           -0.010365 -0.001878    0.001462            1.000000   \n",
            "Registration Id      0.004588  0.000176   -0.001181            0.058072   \n",
            "average wage         0.172136  0.027624    0.019956            0.065876   \n",
            "\n",
            "                     Registration Status  Municipality  Number of Employees  \\\n",
            "Year                            0.005559     -0.004748             0.041001   \n",
            "Month                           0.000268     -0.000316             0.004959   \n",
            "Month-Year                     -0.001149      0.001986             0.040532   \n",
            "Sector Description              0.060726      0.017253             0.182752   \n",
            "Registration Status             1.000000     -0.019542             0.121446   \n",
            "Municipality                   -0.019542      1.000000             0.012938   \n",
            "Number of Employees             0.121446      0.012938             1.000000   \n",
            "Men                             0.137399      0.016005             0.973882   \n",
            "Women                           0.054309      0.002444             0.831988   \n",
            "Average Wage Men                0.298964     -0.036961             0.209619   \n",
            "Average Wage Women              0.292461     -0.055223             0.173580   \n",
            "Sector Id                       0.060726      0.017253             0.182752   \n",
            "Registration Id                 0.999698     -0.018794             0.118790   \n",
            "average wage                    0.323884     -0.049208             0.211957   \n",
            "\n",
            "                          Men     Women  Average Wage Men  Average Wage Women  \\\n",
            "Year                 0.025324  0.069802          0.157181            0.157617   \n",
            "Month                0.005140  0.003368          0.024914            0.025690   \n",
            "Month-Year           0.037576  0.038359          0.019040            0.017230   \n",
            "Sector Description   0.206942  0.081277          0.070187            0.047525   \n",
            "Registration Status  0.137399  0.054309          0.298964            0.292461   \n",
            "Municipality         0.016005  0.002444         -0.036961           -0.055223   \n",
            "Number of Employees  0.973882  0.831988          0.209619            0.173580   \n",
            "Men                  1.000000  0.684290          0.201353            0.172881   \n",
            "Women                0.684290  1.000000          0.181220            0.135045   \n",
            "Average Wage Men     0.201353  0.181220          1.000000            0.666774   \n",
            "Average Wage Women   0.172881  0.135045          0.666774            1.000000   \n",
            "Sector Id            0.206942  0.081277          0.070187            0.047525   \n",
            "Registration Id      0.134556  0.052726          0.302592            0.295817   \n",
            "average wage         0.206554  0.176020          0.933604            0.889534   \n",
            "\n",
            "                     Sector Id  Registration Id  average wage  \n",
            "Year                 -0.010365         0.004588      0.172136  \n",
            "Month                -0.001878         0.000176      0.027624  \n",
            "Month-Year            0.001462        -0.001181      0.019956  \n",
            "Sector Description    1.000000         0.058072      0.065876  \n",
            "Registration Status   0.060726         0.999698      0.323884  \n",
            "Municipality          0.017253        -0.018794     -0.049208  \n",
            "Number of Employees   0.182752         0.118790      0.211957  \n",
            "Men                   0.206942         0.134556      0.206554  \n",
            "Women                 0.081277         0.052726      0.176020  \n",
            "Average Wage Men      0.070187         0.302592      0.933604  \n",
            "Average Wage Women    0.047525         0.295817      0.889534  \n",
            "Sector Id             1.000000         0.058072      0.065876  \n",
            "Registration Id       0.058072         1.000000      0.327722  \n",
            "average wage          0.065876         0.327722      1.000000  \n"
          ]
        }
      ],
      "source": [
        "import pandas as pd\n",
        "import numpy as np\n",
        "import matplotlib.pyplot as plt\n",
        "import seaborn as sns\n",
        "from sklearn.preprocessing import LabelEncoder\n",
        "\n",
        "# Load the dataset\n",
        "file_path = 'final.csv'\n",
        "df = pd.read_csv(file_path)\n",
        "\n",
        "df = df.drop('anomaly', axis=1)\n",
        "\n",
        "print(df.head())\n",
        "print(df.info())\n",
        "\n",
        "# List of columns to be label encoded\n",
        "categorical_columns = ['Month-Year', 'Sector Description', 'Registration Status', 'Municipality']\n",
        "\n",
        "# Label encode the categorical columns\n",
        "label_encoders = {}\n",
        "for column in categorical_columns:\n",
        "    label_encoders[column] = LabelEncoder()\n",
        "    df[column] = label_encoders[column].fit_transform(df[column])\n",
        "\n",
        "# Convert all remaining columns to numeric where possible\n",
        "for column in df.columns:\n",
        "    if df[column].dtype == 'object':\n",
        "        df[column] = pd.to_numeric(df[column], errors='coerce')\n",
        "\n",
        "# Drop rows with missing values in any column\n",
        "df = df.dropna()\n",
        "\n",
        "# Select only numeric columns for the correlation matrix\n",
        "numeric_columns = df.select_dtypes(include=[np.number])\n",
        "\n",
        "# Compute the correlation matrix\n",
        "correlation_matrix = numeric_columns.corr()\n",
        "\n",
        "# Plot the correlation matrix for columns\n",
        "plt.figure(figsize=(20, 16))\n",
        "sns.heatmap(correlation_matrix, annot=False, cmap='coolwarm', center=0)\n",
        "plt.title('Correlation Matrix of Numeric Columns')\n",
        "plt.show()\n",
        "\n",
        "print(correlation_matrix)\n"
      ]
    },
    {
      "cell_type": "code",
      "execution_count": 17,
      "metadata": {
        "id": "dmWUCN5weHDK"
      },
      "outputs": [],
      "source": [
        "df.to_csv('isitfinal.csv', index=False)"
      ]
    },
    {
      "cell_type": "code",
      "execution_count": 22,
      "metadata": {
        "id": "Y_BmBDdsfa70"
      },
      "outputs": [],
      "source": [
        "employment_no_outliers = employment_no_outliers.drop('anomaly', axis=1)\n",
        "# employment_no_outliers.to_csv('final2.csv', index=False)"
      ]
    },
    {
      "cell_type": "code",
      "execution_count": 24,
      "metadata": {
        "colab": {
          "base_uri": "https://localhost:8080/"
        },
        "id": "h73SXlVffm97",
        "outputId": "da0458c8-9b9a-49a4-d4ae-e5af0347d53d"
      },
      "outputs": [
        {
          "name": "stdout",
          "output_type": "stream",
          "text": [
            "<class 'pandas.core.frame.DataFrame'>\n",
            "Index: 60938 entries, 1 to 88012\n",
            "Data columns (total 14 columns):\n",
            " #   Column               Non-Null Count  Dtype  \n",
            "---  ------               --------------  -----  \n",
            " 0   Year                 60938 non-null  int64  \n",
            " 1   Month                60938 non-null  int64  \n",
            " 2   Month-Year           60938 non-null  object \n",
            " 3   Sector Description   60938 non-null  object \n",
            " 4   Registration Status  60938 non-null  object \n",
            " 5   Municipality         60938 non-null  object \n",
            " 6   Number of Employees  60938 non-null  int64  \n",
            " 7   Men                  60938 non-null  int64  \n",
            " 8   Women                60938 non-null  int64  \n",
            " 9   Average Wage Men     60938 non-null  float64\n",
            " 10  Average Wage Women   60938 non-null  float64\n",
            " 11  Sector Id            60938 non-null  int64  \n",
            " 12  Registration Id      60938 non-null  int64  \n",
            " 13  average wage         60938 non-null  float64\n",
            "dtypes: float64(3), int64(7), object(4)\n",
            "memory usage: 9.0+ MB\n"
          ]
        }
      ],
      "source": [
        "employment_no_outliers.info()\n",
        "employment_no_outliers.to_csv('final2.csv', index=False)"
      ]
    },
    {
      "cell_type": "code",
      "execution_count": null,
      "metadata": {
        "id": "ghddvc-chBYP"
      },
      "outputs": [],
      "source": []
    },
    {
      "cell_type": "markdown",
      "metadata": {
        "id": "gU37OgWYhJmb"
      },
      "source": []
    },
    {
      "cell_type": "markdown",
      "metadata": {
        "id": "HY08Z5nqhJkt"
      },
      "source": []
    },
    {
      "cell_type": "code",
      "execution_count": 27,
      "metadata": {
        "colab": {
          "base_uri": "https://localhost:8080/"
        },
        "id": "cztrOGZ_hJDD",
        "outputId": "f84259b3-95a7-4046-b721-5c796a4d0b11"
      },
      "outputs": [
        {
          "data": {
            "text/plain": [
              "29"
            ]
          },
          "execution_count": 27,
          "metadata": {},
          "output_type": "execute_result"
        }
      ],
      "source": [
        "employment_no_outliers['Registration Status'].nunique()"
      ]
    },
    {
      "cell_type": "code",
      "execution_count": 26,
      "metadata": {
        "colab": {
          "base_uri": "https://localhost:8080/"
        },
        "id": "EzzNUEjShBWS",
        "outputId": "f3938ce0-4210-4b68-9f4b-c30b9fb0be8f"
      },
      "outputs": [
        {
          "data": {
            "text/plain": [
              "22"
            ]
          },
          "execution_count": 26,
          "metadata": {},
          "output_type": "execute_result"
        }
      ],
      "source": [
        "employment_no_outliers['Sector Description'].nunique()"
      ]
    },
    {
      "cell_type": "code",
      "execution_count": 29,
      "metadata": {
        "colab": {
          "base_uri": "https://localhost:8080/"
        },
        "id": "X9xCGqq8gigT",
        "outputId": "0888aec9-8fd8-431d-bdae-58820fed0735"
      },
      "outputs": [
        {
          "data": {
            "text/plain": [
              "38"
            ]
          },
          "execution_count": 29,
          "metadata": {},
          "output_type": "execute_result"
        }
      ],
      "source": [
        "employment_no_outliers['Municipality'].nunique()"
      ]
    },
    {
      "cell_type": "code",
      "execution_count": 30,
      "metadata": {
        "colab": {
          "base_uri": "https://localhost:8080/"
        },
        "id": "SIw_qNmlj2nz",
        "outputId": "4ea9d310-fab3-4f0c-bbec-031a18d1ae0d"
      },
      "outputs": [
        {
          "name": "stdout",
          "output_type": "stream",
          "text": [
            "Requirement already satisfied: tensorflow in /usr/local/lib/python3.10/dist-packages (2.15.0)\n",
            "Requirement already satisfied: absl-py>=1.0.0 in /usr/local/lib/python3.10/dist-packages (from tensorflow) (1.4.0)\n",
            "Requirement already satisfied: astunparse>=1.6.0 in /usr/local/lib/python3.10/dist-packages (from tensorflow) (1.6.3)\n",
            "Requirement already satisfied: flatbuffers>=23.5.26 in /usr/local/lib/python3.10/dist-packages (from tensorflow) (24.3.25)\n",
            "Requirement already satisfied: gast!=0.5.0,!=0.5.1,!=0.5.2,>=0.2.1 in /usr/local/lib/python3.10/dist-packages (from tensorflow) (0.5.4)\n",
            "Requirement already satisfied: google-pasta>=0.1.1 in /usr/local/lib/python3.10/dist-packages (from tensorflow) (0.2.0)\n",
            "Requirement already satisfied: h5py>=2.9.0 in /usr/local/lib/python3.10/dist-packages (from tensorflow) (3.9.0)\n",
            "Requirement already satisfied: libclang>=13.0.0 in /usr/local/lib/python3.10/dist-packages (from tensorflow) (18.1.1)\n",
            "Requirement already satisfied: ml-dtypes~=0.2.0 in /usr/local/lib/python3.10/dist-packages (from tensorflow) (0.2.0)\n",
            "Requirement already satisfied: numpy<2.0.0,>=1.23.5 in /usr/local/lib/python3.10/dist-packages (from tensorflow) (1.25.2)\n",
            "Requirement already satisfied: opt-einsum>=2.3.2 in /usr/local/lib/python3.10/dist-packages (from tensorflow) (3.3.0)\n",
            "Requirement already satisfied: packaging in /usr/local/lib/python3.10/dist-packages (from tensorflow) (24.0)\n",
            "Requirement already satisfied: protobuf!=4.21.0,!=4.21.1,!=4.21.2,!=4.21.3,!=4.21.4,!=4.21.5,<5.0.0dev,>=3.20.3 in /usr/local/lib/python3.10/dist-packages (from tensorflow) (3.20.3)\n",
            "Requirement already satisfied: setuptools in /usr/local/lib/python3.10/dist-packages (from tensorflow) (67.7.2)\n",
            "Requirement already satisfied: six>=1.12.0 in /usr/local/lib/python3.10/dist-packages (from tensorflow) (1.16.0)\n",
            "Requirement already satisfied: termcolor>=1.1.0 in /usr/local/lib/python3.10/dist-packages (from tensorflow) (2.4.0)\n",
            "Requirement already satisfied: typing-extensions>=3.6.6 in /usr/local/lib/python3.10/dist-packages (from tensorflow) (4.11.0)\n",
            "Requirement already satisfied: wrapt<1.15,>=1.11.0 in /usr/local/lib/python3.10/dist-packages (from tensorflow) (1.14.1)\n",
            "Requirement already satisfied: tensorflow-io-gcs-filesystem>=0.23.1 in /usr/local/lib/python3.10/dist-packages (from tensorflow) (0.37.0)\n",
            "Requirement already satisfied: grpcio<2.0,>=1.24.3 in /usr/local/lib/python3.10/dist-packages (from tensorflow) (1.63.0)\n",
            "Requirement already satisfied: tensorboard<2.16,>=2.15 in /usr/local/lib/python3.10/dist-packages (from tensorflow) (2.15.2)\n",
            "Requirement already satisfied: tensorflow-estimator<2.16,>=2.15.0 in /usr/local/lib/python3.10/dist-packages (from tensorflow) (2.15.0)\n",
            "Requirement already satisfied: keras<2.16,>=2.15.0 in /usr/local/lib/python3.10/dist-packages (from tensorflow) (2.15.0)\n",
            "Requirement already satisfied: wheel<1.0,>=0.23.0 in /usr/local/lib/python3.10/dist-packages (from astunparse>=1.6.0->tensorflow) (0.43.0)\n",
            "Requirement already satisfied: google-auth<3,>=1.6.3 in /usr/local/lib/python3.10/dist-packages (from tensorboard<2.16,>=2.15->tensorflow) (2.27.0)\n",
            "Requirement already satisfied: google-auth-oauthlib<2,>=0.5 in /usr/local/lib/python3.10/dist-packages (from tensorboard<2.16,>=2.15->tensorflow) (1.2.0)\n",
            "Requirement already satisfied: markdown>=2.6.8 in /usr/local/lib/python3.10/dist-packages (from tensorboard<2.16,>=2.15->tensorflow) (3.6)\n",
            "Requirement already satisfied: requests<3,>=2.21.0 in /usr/local/lib/python3.10/dist-packages (from tensorboard<2.16,>=2.15->tensorflow) (2.31.0)\n",
            "Requirement already satisfied: tensorboard-data-server<0.8.0,>=0.7.0 in /usr/local/lib/python3.10/dist-packages (from tensorboard<2.16,>=2.15->tensorflow) (0.7.2)\n",
            "Requirement already satisfied: werkzeug>=1.0.1 in /usr/local/lib/python3.10/dist-packages (from tensorboard<2.16,>=2.15->tensorflow) (3.0.3)\n",
            "Requirement already satisfied: cachetools<6.0,>=2.0.0 in /usr/local/lib/python3.10/dist-packages (from google-auth<3,>=1.6.3->tensorboard<2.16,>=2.15->tensorflow) (5.3.3)\n",
            "Requirement already satisfied: pyasn1-modules>=0.2.1 in /usr/local/lib/python3.10/dist-packages (from google-auth<3,>=1.6.3->tensorboard<2.16,>=2.15->tensorflow) (0.4.0)\n",
            "Requirement already satisfied: rsa<5,>=3.1.4 in /usr/local/lib/python3.10/dist-packages (from google-auth<3,>=1.6.3->tensorboard<2.16,>=2.15->tensorflow) (4.9)\n",
            "Requirement already satisfied: requests-oauthlib>=0.7.0 in /usr/local/lib/python3.10/dist-packages (from google-auth-oauthlib<2,>=0.5->tensorboard<2.16,>=2.15->tensorflow) (1.3.1)\n",
            "Requirement already satisfied: charset-normalizer<4,>=2 in /usr/local/lib/python3.10/dist-packages (from requests<3,>=2.21.0->tensorboard<2.16,>=2.15->tensorflow) (3.3.2)\n",
            "Requirement already satisfied: idna<4,>=2.5 in /usr/local/lib/python3.10/dist-packages (from requests<3,>=2.21.0->tensorboard<2.16,>=2.15->tensorflow) (3.7)\n",
            "Requirement already satisfied: urllib3<3,>=1.21.1 in /usr/local/lib/python3.10/dist-packages (from requests<3,>=2.21.0->tensorboard<2.16,>=2.15->tensorflow) (2.0.7)\n",
            "Requirement already satisfied: certifi>=2017.4.17 in /usr/local/lib/python3.10/dist-packages (from requests<3,>=2.21.0->tensorboard<2.16,>=2.15->tensorflow) (2024.2.2)\n",
            "Requirement already satisfied: MarkupSafe>=2.1.1 in /usr/local/lib/python3.10/dist-packages (from werkzeug>=1.0.1->tensorboard<2.16,>=2.15->tensorflow) (2.1.5)\n",
            "Requirement already satisfied: pyasn1<0.7.0,>=0.4.6 in /usr/local/lib/python3.10/dist-packages (from pyasn1-modules>=0.2.1->google-auth<3,>=1.6.3->tensorboard<2.16,>=2.15->tensorflow) (0.6.0)\n",
            "Requirement already satisfied: oauthlib>=3.0.0 in /usr/local/lib/python3.10/dist-packages (from requests-oauthlib>=0.7.0->google-auth-oauthlib<2,>=0.5->tensorboard<2.16,>=2.15->tensorflow) (3.2.2)\n"
          ]
        }
      ],
      "source": [
        "!pip install tensorflow"
      ]
    },
    {
      "cell_type": "code",
      "execution_count": 32,
      "metadata": {
        "colab": {
          "base_uri": "https://localhost:8080/"
        },
        "id": "6KZfbL10kGh5",
        "outputId": "f02a6b0b-1d6e-49d6-ac1a-ed06e46e4c20"
      },
      "outputs": [
        {
          "name": "stdout",
          "output_type": "stream",
          "text": [
            "<class 'pandas.core.frame.DataFrame'>\n",
            "RangeIndex: 60938 entries, 0 to 60937\n",
            "Data columns (total 13 columns):\n",
            " #   Column               Non-Null Count  Dtype  \n",
            "---  ------               --------------  -----  \n",
            " 0   Year                 60938 non-null  int64  \n",
            " 1   Month                60938 non-null  int64  \n",
            " 2   Sector Description   60938 non-null  object \n",
            " 3   Registration Status  60938 non-null  object \n",
            " 4   Municipality         60938 non-null  object \n",
            " 5   Number of Employees  60938 non-null  int64  \n",
            " 6   Men                  60938 non-null  int64  \n",
            " 7   Women                60938 non-null  int64  \n",
            " 8   Average Wage Men     60938 non-null  float64\n",
            " 9   Average Wage Women   60938 non-null  float64\n",
            " 10  Sector Id            60938 non-null  int64  \n",
            " 11  Registration Id      60938 non-null  int64  \n",
            " 12  average wage         60938 non-null  float64\n",
            "dtypes: float64(3), int64(7), object(3)\n",
            "memory usage: 6.0+ MB\n"
          ]
        }
      ],
      "source": [
        "data = pd.read_csv('final2.csv')\n",
        "\n",
        "data = data.drop('Month-Year', axis=1)\n",
        "\n",
        "data.info()"
      ]
    },
    {
      "cell_type": "code",
      "execution_count": 46,
      "metadata": {
        "colab": {
          "base_uri": "https://localhost:8080/",
          "height": 564
        },
        "id": "N1jUQoLhAnHR",
        "outputId": "ce45cc21-7352-4006-a1f0-d90f65d8a373"
      },
      "outputs": [
        {
          "data": {
            "image/png": "[encoded data removed]",
            "text/plain": [
              "<Figure size 1000x600 with 1 Axes>"
            ]
          },
          "metadata": {},
          "output_type": "display_data"
        }
      ],
      "source": [
        "import pandas as pd\n",
        "import matplotlib.pyplot as plt\n",
        "\n",
        "# Load your dataset\n",
        "data = pd.read_csv('final2.csv')\n",
        "\n",
        "# Plot the distribution of average wage\n",
        "plt.figure(figsize=(10, 6))\n",
        "plt.hist(data['average wage'], bins=30, edgecolor='k', alpha=0.7)\n",
        "plt.title('Distribution of Average Wage')\n",
        "plt.xlabel('Average Wage')\n",
        "plt.ylabel('Frequency')\n",
        "plt.show()"
      ]
    },
    {
      "cell_type": "code",
      "execution_count": null,
      "metadata": {
        "id": "BARsxbMwAm8-"
      },
      "outputs": [],
      "source": []
    },
    {
      "cell_type": "code",
      "execution_count": 72,
      "metadata": {
        "colab": {
          "base_uri": "https://localhost:8080/"
        },
        "id": "W7aT7YDO9ENh",
        "outputId": "6913ae43-f88b-45d4-fbcf-c7fc9b28f068"
      },
      "outputs": [
        {
          "name": "stdout",
          "output_type": "stream",
          "text": [
            "wage_category\n",
            "1    45816\n",
            "0    11360\n",
            "2     3762\n",
            "Name: count, dtype: int64\n"
          ]
        },
        {
          "name": "stderr",
          "output_type": "stream",
          "text": [
            "/usr/local/lib/python3.10/dist-packages/sklearn/preprocessing/_encoders.py:868: FutureWarning: `sparse` was renamed to `sparse_output` in version 1.2 and will be removed in 1.4. `sparse_output` is ignored unless you leave `sparse` to its default value.\n",
            "  warnings.warn(\n"
          ]
        },
        {
          "name": "stdout",
          "output_type": "stream",
          "text": [
            "1    27531\n",
            "0     6783\n",
            "2     2248\n",
            "Name: count, dtype: int64\n",
            "1    18285\n",
            "0     4577\n",
            "2     1514\n",
            "Name: count, dtype: int64\n",
            "Epoch 1/5\n",
            "915/915 [==============================] - 4s 4ms/step - loss: 0.2632 - accuracy: 0.8986 - val_loss: 0.1136 - val_accuracy: 0.9577\n",
            "Epoch 2/5\n",
            "915/915 [==============================] - 2s 3ms/step - loss: 0.0891 - accuracy: 0.9661 - val_loss: 0.0841 - val_accuracy: 0.9676\n",
            "Epoch 3/5\n",
            "915/915 [==============================] - 2s 2ms/step - loss: 0.0702 - accuracy: 0.9719 - val_loss: 0.0777 - val_accuracy: 0.9732\n",
            "Epoch 4/5\n",
            "915/915 [==============================] - 2s 2ms/step - loss: 0.0588 - accuracy: 0.9768 - val_loss: 0.0709 - val_accuracy: 0.9754\n",
            "Epoch 5/5\n",
            "915/915 [==============================] - 2s 2ms/step - loss: 0.0547 - accuracy: 0.9789 - val_loss: 0.0680 - val_accuracy: 0.9763\n",
            "762/762 [==============================] - 1s 2ms/step - loss: 0.0742 - accuracy: 0.9713\n",
            "Test Accuracy: 0.9712832570075989\n",
            "762/762 [==============================] - 2s 2ms/step\n",
            "Precision: 0.9722647490420612\n",
            "Recall: 0.9712832294059731\n",
            "F1 Score: 0.9715646480520717\n"
          ]
        }
      ],
      "source": [
        "import pandas as pd\n",
        "from sklearn.model_selection import train_test_split\n",
        "from sklearn.preprocessing import OneHotEncoder, StandardScaler\n",
        "from sklearn.metrics import accuracy_score, precision_score, recall_score, f1_score\n",
        "import numpy as np\n",
        "from tensorflow.keras.models import Sequential\n",
        "from tensorflow.keras.layers import Dense\n",
        "from tensorflow.keras.utils import to_categorical\n",
        "\n",
        "# Load your dataset\n",
        "# Replace 'your_dataset.csv' with your actual file path\n",
        "data = pd.read_csv('final2.csv')\n",
        "\n",
        "data = data.drop('Month-Year', axis=1)\n",
        "\n",
        "# average wage:\n",
        "\n",
        "# Define bins for average wage to categorize into low, medium, high\n",
        "bins = [0, 200, 500, np.inf]\n",
        "labels = [0, 1, 2]  # 0: Low, 1: Medium, 2: High\n",
        "data['wage_category'] = pd.cut(data['average wage'], bins=bins, labels=labels)\n",
        "\n",
        "# Drop rows with missing wage categories\n",
        "data = data.dropna(subset=['wage_category'])\n",
        "\n",
        "# Check the distribution of the target variable\n",
        "print(data['wage_category'].value_counts())\n",
        "\n",
        "# One-hot encoding for categorical variables\n",
        "categorical_features = ['Sector Description', 'Registration Status', 'Municipality']\n",
        "one_hot_encoder = OneHotEncoder(sparse=False, drop='first')\n",
        "encoded_features = one_hot_encoder.fit_transform(data[categorical_features])\n",
        "\n",
        "# Create a DataFrame for the encoded features\n",
        "encoded_df = pd.DataFrame(encoded_features, columns=one_hot_encoder.get_feature_names_out(categorical_features))\n",
        "\n",
        "# Concatenate the encoded features with the original data\n",
        "data = pd.concat([data, encoded_df], axis=1)\n",
        "\n",
        "# Drop the original categorical columns\n",
        "data.drop(columns=categorical_features, inplace=True)\n",
        "\n",
        "data.to_csv('final3.csv', index=False)\n",
        "\n",
        "# Define the feature columns and target column\n",
        "X = data.drop(columns=['average wage', 'wage_category'])\n",
        "y = data['wage_category']\n",
        "\n",
        "# Standardize the features\n",
        "scaler = StandardScaler()\n",
        "X_scaled = scaler.fit_transform(X)\n",
        "\n",
        "# Convert labels to categorical one-hot encoding\n",
        "y_categorical = to_categorical(y)\n",
        "\n",
        "# Split the data into training and test sets\n",
        "X_train, X_test, y_train, y_test = train_test_split(X_scaled, y_categorical, test_size=0.4, random_state=42)\n",
        "\n",
        "# Check the distribution in training and test sets\n",
        "print(pd.Series(np.argmax(y_train, axis=1)).value_counts())\n",
        "print(pd.Series(np.argmax(y_test, axis=1)).value_counts())\n",
        "\n",
        "# Build the neural network model\n",
        "model = Sequential()\n",
        "model.add(Dense(64, input_dim=X_train.shape[1], activation='relu'))\n",
        "model.add(Dense(32, activation='relu'))\n",
        "model.add(Dense(y_categorical.shape[1], activation='softmax'))  # Output layer for classification\n",
        "\n",
        "# Compile the model\n",
        "model.compile(optimizer='adam', loss='categorical_crossentropy', metrics=['accuracy'])\n",
        "\n",
        "# Train the model\n",
        "model.fit(X_train, y_train, epochs=5, batch_size=32, validation_split=0.2)\n",
        "\n",
        "# Evaluate the model\n",
        "loss, accuracy = model.evaluate(X_test, y_test)\n",
        "print(f\"Test Accuracy: {accuracy}\")\n",
        "\n",
        "# Predicting the values\n",
        "y_pred = model.predict(X_test)\n",
        "y_pred_classes = np.argmax(y_pred, axis=1)\n",
        "y_true = np.argmax(y_test, axis=1)\n",
        "\n",
        "# Calculate precision, recall, and f1 score\n",
        "precision = precision_score(y_true, y_pred_classes, average='weighted')\n",
        "recall = recall_score(y_true, y_pred_classes, average='weighted')\n",
        "f1 = f1_score(y_true, y_pred_classes, average='weighted')\n",
        "\n",
        "print(f\"Precision: {precision}\")\n",
        "print(f\"Recall: {recall}\")\n",
        "print(f\"F1 Score: {f1}\")\n"
      ]
    },
    {
      "cell_type": "markdown",
      "metadata": {
        "id": "3flap0jvGXuN"
      },
      "source": [
        "Logistic Regression"
      ]
    },
    {
      "cell_type": "code",
      "execution_count": 73,
      "metadata": {
        "colab": {
          "base_uri": "https://localhost:8080/"
        },
        "id": "4MptFdWlGYqg",
        "outputId": "760e4ed2-ebf8-49a4-9e88-c74f9abea296"
      },
      "outputs": [
        {
          "name": "stdout",
          "output_type": "stream",
          "text": [
            "Accuracy: 0.9981949458483754\n",
            "Recall: 0.9841479524438573\n",
            "Precision: 0.9867549668874173\n",
            "F1 Score: 0.9854497354497355\n"
          ]
        },
        {
          "name": "stderr",
          "output_type": "stream",
          "text": [
            "/usr/local/lib/python3.10/dist-packages/sklearn/linear_model/_logistic.py:458: ConvergenceWarning: lbfgs failed to converge (status=1):\n",
            "STOP: TOTAL NO. of ITERATIONS REACHED LIMIT.\n",
            "\n",
            "Increase the number of iterations (max_iter) or scale the data as shown in:\n",
            "    https://scikit-learn.org/stable/modules/preprocessing.html\n",
            "Please also refer to the documentation for alternative solver options:\n",
            "    https://scikit-learn.org/stable/modules/linear_model.html#logistic-regression\n",
            "  n_iter_i = _check_optimize_result(\n"
          ]
        }
      ],
      "source": [
        "import numpy as np\n",
        "from sklearn.linear_model import LogisticRegression\n",
        "from sklearn.metrics import accuracy_score, recall_score, precision_score, f1_score\n",
        "\n",
        "# Convert one-hot encoded labels back to categorical labels\n",
        "y_train_labels = np.argmax(y_train, axis=1)\n",
        "y_test_labels = np.argmax(y_test, axis=1)\n",
        "\n",
        "# Determine the threshold for binary classification\n",
        "threshold = np.median(y_train_labels)\n",
        "y_train_class = (y_train_labels > threshold).astype(int)\n",
        "y_test_class = (y_test_labels > threshold).astype(int)\n",
        "\n",
        "# Train the logistic regression model\n",
        "log_model = LogisticRegression()\n",
        "log_model.fit(X_train, y_train_class)\n",
        "log_predictions = log_model.predict(X_test)\n",
        "\n",
        "# Calculate classification metrics\n",
        "accuracy = accuracy_score(y_test_class, log_predictions)\n",
        "recall = recall_score(y_test_class, log_predictions)\n",
        "precision = precision_score(y_test_class, log_predictions)\n",
        "f1 = f1_score(y_test_class, log_predictions)\n",
        "\n",
        "print(f\"Accuracy: {accuracy}\")\n",
        "print(f\"Recall: {recall}\")\n",
        "print(f\"Precision: {precision}\")\n",
        "print(f\"F1 Score: {f1}\")\n"
      ]
    },
    {
      "cell_type": "markdown",
      "metadata": {
        "id": "VeD8wp9ILmac"
      },
      "source": [
        "Decision Tree"
      ]
    },
    {
      "cell_type": "code",
      "execution_count": 74,
      "metadata": {
        "colab": {
          "base_uri": "https://localhost:8080/"
        },
        "id": "30EeDHofLnjl",
        "outputId": "3d185d11-06ff-4b36-f0ce-6a5989477be5"
      },
      "outputs": [
        {
          "name": "stdout",
          "output_type": "stream",
          "text": [
            "Accuracy: 0.9980308500164096\n",
            "Recall: 0.9828269484808454\n",
            "Precision: 0.9854304635761589\n",
            "F1 Score: 0.984126984126984\n"
          ]
        }
      ],
      "source": [
        "import numpy as np\n",
        "from sklearn.metrics import accuracy_score, recall_score, f1_score, precision_score\n",
        "from sklearn.tree import DecisionTreeClassifier\n",
        "\n",
        "# Decision Tree Classifier for actual classification tasks\n",
        "dtc_model = DecisionTreeClassifier()\n",
        "dtc_model.fit(X_train, y_train_class)\n",
        "dtc_predictions = dtc_model.predict(X_test)\n",
        "\n",
        "# Calculate classification metrics\n",
        "accuracy = accuracy_score(y_test_class, dtc_predictions)\n",
        "recall = recall_score(y_test_class, dtc_predictions)\n",
        "precision = precision_score(y_test_class, dtc_predictions)\n",
        "f1 = f1_score(y_test_class, dtc_predictions)\n",
        "\n",
        "print(f\"Accuracy: {accuracy}\")\n",
        "print(f\"Recall: {recall}\")\n",
        "print(f\"Precision: {precision}\")\n",
        "print(f\"F1 Score: {f1}\")\n"
      ]
    },
    {
      "cell_type": "markdown",
      "metadata": {
        "id": "aejtF0qkLzVq"
      },
      "source": [
        "Random Forest Classifier"
      ]
    },
    {
      "cell_type": "code",
      "execution_count": 75,
      "metadata": {
        "colab": {
          "base_uri": "https://localhost:8080/"
        },
        "id": "92RQDWUrL0yX",
        "outputId": "60102ee9-0108-4209-a0c7-b48864ff3feb"
      },
      "outputs": [
        {
          "name": "stdout",
          "output_type": "stream",
          "text": [
            "Accuracy: 0.9942976698391861\n",
            "Recall: 0.9346103038309115\n",
            "Precision: 0.9725085910652921\n",
            "F1 Score: 0.9531828898619065\n"
          ]
        }
      ],
      "source": [
        "import numpy as np\n",
        "from sklearn.metrics import accuracy_score, recall_score, f1_score, precision_score\n",
        "from sklearn.ensemble import RandomForestClassifier\n",
        "\n",
        "# Random Forest Classifier for actual classification tasks\n",
        "rfc_model = RandomForestClassifier(n_estimators=100)\n",
        "rfc_model.fit(X_train, y_train_class)\n",
        "rfc_predictions = rfc_model.predict(X_test)\n",
        "\n",
        "# Calculate classification metrics\n",
        "accuracy = accuracy_score(y_test_class, rfc_predictions)\n",
        "recall = recall_score(y_test_class, rfc_predictions)\n",
        "precision = precision_score(y_test_class, rfc_predictions)\n",
        "f1 = f1_score(y_test_class, rfc_predictions)\n",
        "\n",
        "print(f\"Accuracy: {accuracy}\")\n",
        "print(f\"Recall: {recall}\")\n",
        "print(f\"Precision: {precision}\")\n",
        "print(f\"F1 Score: {f1}\")\n"
      ]
    },
    {
      "cell_type": "markdown",
      "metadata": {
        "id": "XcjOtnqVL7bS"
      },
      "source": [
        "Support Vector Machine Classifier"
      ]
    },
    {
      "cell_type": "code",
      "execution_count": 76,
      "metadata": {
        "colab": {
          "base_uri": "https://localhost:8080/"
        },
        "id": "SZvcM_4AL7BP",
        "outputId": "08908867-e811-4eea-91ed-e18df311af3a"
      },
      "outputs": [
        {
          "name": "stdout",
          "output_type": "stream",
          "text": [
            "Accuracy: 0.9890876271742698\n",
            "Recall: 0.8850726552179656\n",
            "Precision: 0.9357541899441341\n",
            "F1 Score: 0.9097080787508486\n"
          ]
        }
      ],
      "source": [
        "from sklearn.svm import SVC\n",
        "from sklearn.metrics import accuracy_score, recall_score, f1_score, precision_score\n",
        "\n",
        "# Support Vector Machine Model for classification\n",
        "svm_classifier = SVC()\n",
        "svm_classifier.fit(X_train, y_train_class)  # y_train_class should be a binary label for classification\n",
        "svm_predictions = svm_classifier.predict(X_test)\n",
        "\n",
        "# Calculate classification metrics\n",
        "accuracy = accuracy_score(y_test_class, svm_predictions)\n",
        "recall = recall_score(y_test_class, svm_predictions)\n",
        "precision = precision_score(y_test_class, svm_predictions)\n",
        "f1 = f1_score(y_test_class, svm_predictions)\n",
        "\n",
        "print(f\"Accuracy: {accuracy}\")\n",
        "print(f\"Recall: {recall}\")\n",
        "print(f\"Precision: {precision}\")\n",
        "print(f\"F1 Score: {f1}\")\n"
      ]
    },
    {
      "cell_type": "markdown",
      "metadata": {
        "id": "gfFSU_X2MCj6"
      },
      "source": [
        "KNeighbors Classifier"
      ]
    },
    {
      "cell_type": "code",
      "execution_count": 77,
      "metadata": {
        "colab": {
          "base_uri": "https://localhost:8080/"
        },
        "id": "EJsQ7tAmMFjO",
        "outputId": "3a7bee20-5266-42ed-c8e1-db73dacb93cd"
      },
      "outputs": [
        {
          "name": "stdout",
          "output_type": "stream",
          "text": [
            "Accuracy: 0.9832622251394815\n",
            "Recall: 0.8157199471598415\n",
            "Precision: 0.905425219941349\n",
            "F1 Score: 0.8582348853370396\n"
          ]
        }
      ],
      "source": [
        "from sklearn.neighbors import KNeighborsClassifier\n",
        "\n",
        "# k-NN Model for classification\n",
        "knn_classifier = KNeighborsClassifier(n_neighbors=3)\n",
        "knn_classifier.fit(X_train, y_train_class)  # y_train_class should be a binary label for classification\n",
        "knn_predictions = knn_classifier.predict(X_test)\n",
        "\n",
        "# Calculate classification metrics\n",
        "accuracy = accuracy_score(y_test_class, knn_predictions)\n",
        "recall = recall_score(y_test_class, knn_predictions)\n",
        "precision = precision_score(y_test_class, knn_predictions)\n",
        "f1 = f1_score(y_test_class, knn_predictions)\n",
        "\n",
        "print(f\"Accuracy: {accuracy}\")\n",
        "print(f\"Recall: {recall}\")\n",
        "print(f\"Precision: {precision}\")\n",
        "print(f\"F1 Score: {f1}\")\n"
      ]
    },
    {
      "cell_type": "markdown",
      "metadata": {
        "id": "VzM1eUZSMIyX"
      },
      "source": [
        "Gradient Boosting Classifier"
      ]
    },
    {
      "cell_type": "code",
      "execution_count": 78,
      "metadata": {
        "colab": {
          "base_uri": "https://localhost:8080/"
        },
        "id": "ilBhoKhDMKIN",
        "outputId": "368b1f18-17ee-4d9b-a6d3-1f3a7d5c7819"
      },
      "outputs": [
        {
          "name": "stdout",
          "output_type": "stream",
          "text": [
            "Accuracy: 0.9979898260584181\n",
            "Recall: 0.9795244385733157\n",
            "Precision: 0.9880079946702198\n",
            "F1 Score: 0.9837479270315092\n"
          ]
        }
      ],
      "source": [
        "from sklearn.ensemble import GradientBoostingClassifier\n",
        "\n",
        "# Gradient Boosting Classifier\n",
        "gb_classifier = GradientBoostingClassifier(n_estimators=100)\n",
        "gb_classifier.fit(X_train, y_train_class)  # Assuming y_train_class is prepared for classification\n",
        "gb_predictions = gb_classifier.predict(X_test)\n",
        "\n",
        "# Calculate classification metrics\n",
        "accuracy = accuracy_score(y_test_class, gb_predictions)\n",
        "recall = recall_score(y_test_class, gb_predictions)\n",
        "precision = precision_score(y_test_class, gb_predictions)\n",
        "f1 = f1_score(y_test_class, gb_predictions)\n",
        "\n",
        "print(f\"Accuracy: {accuracy}\")\n",
        "print(f\"Recall: {recall}\")\n",
        "print(f\"Precision: {precision}\")\n",
        "print(f\"F1 Score: {f1}\")\n"
      ]
    }
  ],
  "metadata": {
    "colab": {
      "provenance": []
    },
    "kernelspec": {
      "display_name": "Python 3",
      "name": "python3"
    },
    "language_info": {
      "name": "python"
    }
  },
  "nbformat": 4,
  "nbformat_minor": 0
}
