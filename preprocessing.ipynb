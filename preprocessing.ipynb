{
 "cells": [
  {
   "cell_type": "code",
   "execution_count": null,
   "metadata": {},
   "outputs": [],
   "source": [
    "import pandas as pd\n",
    "\n",
    "# Load the datasets\n",
    "punesimi_2019 = pd.read_csv('dataset/Punesimi-2019.csv')\n",
    "punesimi_2020 = pd.read_csv('dataset/Punesimi-2020.csv')\n",
    "punesimi_2021 = pd.read_csv('dataset/Punesimi-2021.csv')\n",
    "punesimi_2022 = pd.read_csv('dataset/Punesimi-2022.csv')\n",
    "punesimi_2023 = pd.read_csv('dataset/Punesimi-2023.csv')\n"
   ]
  }
 ],
 "metadata": {
  "language_info": {
   "name": "python"
  }
 },
 "nbformat": 4,
 "nbformat_minor": 2
}
